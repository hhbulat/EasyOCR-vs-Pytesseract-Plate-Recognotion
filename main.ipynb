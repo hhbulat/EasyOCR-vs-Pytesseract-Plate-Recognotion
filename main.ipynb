{
 "cells": [
  {
   "cell_type": "code",
   "execution_count": 4,
   "metadata": {
    "id": "WM-NFz4Ip9-x"
   },
   "outputs": [],
   "source": [
    "import matplotlib.pyplot as plt\n",
    "import cv2\n",
    "import json\n",
    "import easyocr\n",
    "import numpy as np\n",
    "from PIL import Image\n",
    "import pytesseract\n",
    "%matplotlib inline\n",
    "pytesseract.pytesseract.tesseract_cmd = r'your\\path\\tesseract.exe' \n",
    "#Enter the your tesseract.exe path in the section above"
   ]
  },
  {
   "cell_type": "code",
   "execution_count": 4,
   "metadata": {
    "colab": {
     "base_uri": "https://localhost:8080/"
    },
    "id": "fUt7QjFk2JSo",
    "outputId": "d2bbacfa-ae29-4ab1-9adc-02e14b1c000a"
   },
   "outputs": [],
   "source": [
    "# WITH DRIVE CONNECT FOR GOOGLE COLAB USERS\n",
    "# from google.colab import drive\n",
    "# drive.mount('/content/drive')"
   ]
  },
  {
   "cell_type": "code",
   "execution_count": 5,
   "metadata": {
    "id": "UukLVKVwqnK4"
   },
   "outputs": [],
   "source": [
    "confThreshold = 0.5  #Confidence threshold\n",
    "nmsThreshold = 0.4  #Non-maximum suppression threshold\n",
    "\n",
    "inpWidth = 416     #Width of network's input image\n",
    "inpHeight = 416     #Height of network's input image"
   ]
  },
  {
   "cell_type": "code",
   "execution_count": 6,
   "metadata": {
    "id": "OYUiRXR8rBO-"
   },
   "outputs": [],
   "source": [
    "# YOLO INPUT'S\n",
    "classesFile = \"yolo/classes.names\";\n",
    "classes = None\n",
    "with open(classesFile, 'rt') as f:\n",
    "    classes = f.read().rstrip('\\n').split('\\n') \n",
    "\n",
    "modelConfiguration = \"yolo/darknet-yolov3.cfg\";\n",
    "modelWeights = \"yolo/lapi.weights\";\n"
   ]
  },
  {
   "cell_type": "code",
   "execution_count": 7,
   "metadata": {
    "id": "kH-fh0tpuZg6"
   },
   "outputs": [],
   "source": [
    "# Yolo files importted and create yolo model.\n",
    "net = cv2.dnn.readNetFromDarknet(modelConfiguration, modelWeights)\n",
    "net.setPreferableBackend(cv2.dnn.DNN_BACKEND_OPENCV)\n",
    "net.setPreferableTarget(cv2.dnn.DNN_TARGET_CPU)"
   ]
  },
  {
   "cell_type": "code",
   "execution_count": 8,
   "metadata": {
    "id": "LH-zWHB9rO-Y"
   },
   "outputs": [],
   "source": [
    "# Get the names of the output layers\n",
    "def getOutputsNames(net):\n",
    "    # Get the names of all the layers in the network\n",
    "    layersNames = net.getLayerNames()\n",
    "\n",
    "    return [layersNames[int(i)-1] for i in net.getUnconnectedOutLayers()]"
   ]
  },
  {
   "cell_type": "code",
   "execution_count": 184,
   "metadata": {
    "id": "O6cthgDKrWe6"
   },
   "outputs": [],
   "source": [
    "# Remove the bounding boxes with low confidence using non-maxima suppression\n",
    "def postprocess(frame, outs):\n",
    "    frameHeight = frame.shape[0]\n",
    "    frameWidth = frame.shape[1]\n",
    "    \n",
    "    # Scan through all the bounding boxes output from the network and keep only the\n",
    "    # ones with high confidence scores. Assign the box's class label as the class with the highest score.\n",
    "    classIds = []\n",
    "    confidences = []\n",
    "    boxes = []\n",
    "    for out in outs:\n",
    "        #print(\"out.shape : \", out.shape)\n",
    "        for detection in out:\n",
    "            #if detection[4]>0.001:\n",
    "            scores = detection[5:]\n",
    "            classId = np.argmax(scores)\n",
    "            #if scores[classId]>confThreshold:\n",
    "            confidence = scores[classId]\n",
    "            '''if detection[4]>confThreshold:\n",
    "                print(detection[4], \" - \", scores[classId], \" - th : \", confThreshold)\n",
    "                print(detection)'''\n",
    "            if confidence > confThreshold:\n",
    "                center_x = int(detection[0] * frameWidth)\n",
    "                center_y = int(detection[1] * frameHeight)\n",
    "                width = int(detection[2] * frameWidth)\n",
    "                height = int(detection[3] * frameHeight)\n",
    "                left = int(center_x - width / 2)\n",
    "                top = int(center_y - height / 2)\n",
    "                classIds.append(classId)\n",
    "                confidences.append(float(confidence))\n",
    "                boxes.append([left, top, width, height])\n",
    "\n",
    "    # Perform non maximum suppression to eliminate redundant overlapping boxes with lower confidences.\n",
    "    cropped=None\n",
    "    indices = cv2.dnn.NMSBoxes(boxes, confidences, confThreshold, nmsThreshold)\n",
    "    for i in indices:\n",
    "        i = int(i)\n",
    "        box = boxes[i]\n",
    "        left = box[0]\n",
    "        top = box[1]\n",
    "        width = box[2]\n",
    "        height = box[3]\n",
    "        \n",
    "        # calculate bottom and right\n",
    "        bottom = top + height\n",
    "        right = left + width\n",
    "        #print(right),print(left)\n",
    "        #crop the plate out\n",
    "        cropped = frame[top:bottom, left:right].copy()\n",
    "        ret = frame.copy()\n",
    "        ret = cv2.rectangle(ret, (left, top), (right, bottom), (0, 255, 0), 5)\n",
    "    if cropped is not None:\n",
    "        return cropped,ret,top,left,right,bottom"
   ]
  },
  {
   "cell_type": "code",
   "execution_count": 170,
   "metadata": {
    "id": "GWTVEESfrWnB"
   },
   "outputs": [],
   "source": [
    "def import_plate(input_path,net):\n",
    "    cap = cv2.VideoCapture(input_path)\n",
    "    hasFrame, frame = cap.read() #frame: an image object from cv2\n",
    "    save = frame.copy()\n",
    "    # Stop the program if reached end of video\n",
    "    if not hasFrame:\n",
    "        print(\"Done processing !!!\")\n",
    "\n",
    "    # Create a 4D blob from a frame.\n",
    "    blob = cv2.dnn.blobFromImage(frame, 1/255, (inpWidth, inpHeight), [0,0,0], 1, crop=False)\n",
    "\n",
    "    # Sets the input to the network\n",
    "    net.setInput(blob)\n",
    "\n",
    "    # Runs the forward pass to get output of the output layers\n",
    "    outs = net.forward(getOutputsNames(net))\n",
    "\n",
    "    # Remove the bounding boxes with low confidence\n",
    "    cropped,box,top,left,right,bottom = postprocess(frame, outs)\n",
    "    cropped = cv2.cvtColor(cropped,cv2.COLOR_BGR2RGB)\n",
    "    frame = cv2.cvtColor(frame,cv2.COLOR_BGR2RGB)\n",
    "    return cropped,box,top,left,right,bottom"
   ]
  },
  {
   "cell_type": "code",
   "execution_count": 171,
   "metadata": {
    "id": "LHpMFVpyrW2X"
   },
   "outputs": [],
   "source": [
    "def find_contours(dimensions, img):\n",
    "\n",
    "    #Find plate contours.\n",
    "    cntrs, _ = cv2.findContours(img.copy(), cv2.RETR_TREE, cv2.CHAIN_APPROX_SIMPLE)\n",
    "\n",
    "    lower_width = dimensions[0]\n",
    "    upper_width = dimensions[1]\n",
    "    lower_height = dimensions[2]\n",
    "    upper_height = dimensions[3]\n",
    "    \n",
    "    # Found the contours sorted at contour areas.\n",
    "    cntrs = sorted(cntrs, key=cv2.contourArea, reverse=True)[:15]\n",
    "    # used draw ractangle for predicted contours\n",
    "    img_copy = cv2.imread('contour.jpg')\n",
    "    \n",
    "    x_cntr_list = []\n",
    "    target_contours = []\n",
    "    img_res = []\n",
    "    for cntr in cntrs:\n",
    "        intX, intY, intWidth, intHeight = cv2.boundingRect(cntr)\n",
    "        # DIMENSIONS SORTED.\n",
    "        if intWidth > lower_width and intWidth < upper_width and intHeight > lower_height and intHeight < upper_height :\n",
    "            \n",
    "            x_cntr_list.append(intX)\n",
    "            char_copy = np.zeros((44,24))\n",
    "            char = img[intY:intY+intHeight, intX:intX+intWidth]\n",
    "            char = cv2.resize(char, (20, 40))\n",
    "        \n",
    "            cv2.rectangle(img_copy, (intX,intY), (intWidth+intX, intY+intHeight), (50,21,200), 2)\n",
    "#             plt.imshow(img_copy, cmap='gray')\n",
    "#             plt.title('Predict Segments')\n",
    "                                 \n",
    "            char = cv2.subtract(255, char)\n",
    "                                 \n",
    "            char_copy[2:42, 2:22] = char\n",
    "            char_copy[0:2, :] = 0\n",
    "            char_copy[:, 0:2] = 0\n",
    "            char_copy[42:44, :] = 0\n",
    "            char_copy[:, 22:24] = 0\n",
    "            img_res.append(char_copy)\n",
    "            \n",
    "\n",
    "            \n",
    "#     plt.show()\n",
    "    \n",
    "    indices = sorted(range(len(x_cntr_list)), key=lambda k: x_cntr_list[k])\n",
    "    img_res_copy = []\n",
    "    for idx in indices:\n",
    "        img_res_copy.append(img_res[idx])\n",
    "    img_result = np.array(img_res_copy)\n",
    "    return img_result,img_copy"
   ]
  },
  {
   "cell_type": "code",
   "execution_count": 177,
   "metadata": {
    "id": "zx86gG0nrW9r"
   },
   "outputs": [],
   "source": [
    "# Find characters in the resulting images\n",
    "def segment_characters(image) :\n",
    "\n",
    "    # Preprocess cropped license plate image\n",
    "    img_lp = cv2.resize(image, (333, 75))\n",
    "    img_gray_lp = cv2.cvtColor(img_lp, cv2.COLOR_BGR2GRAY)\n",
    "    _, img_binary_lp = cv2.threshold(img_gray_lp, 200, 255, cv2.THRESH_BINARY+cv2.THRESH_OTSU)\n",
    "    img_binary_lp = cv2.erode(img_binary_lp, (3,3))\n",
    "    img_binary_lp = cv2.dilate(img_binary_lp, (3,3))\n",
    "\n",
    "    LP_WIDTH = img_binary_lp.shape[0]\n",
    "    LP_HEIGHT = img_binary_lp.shape[1]\n",
    "\n",
    "    # Make borders white\n",
    "    img_binary_lp[0:3,:] = 255\n",
    "    img_binary_lp[:,0:3] = 255\n",
    "    img_binary_lp[72:75,:] = 255\n",
    "    img_binary_lp[:,330:333] = 255\n",
    "\n",
    "    # Estimations of character contours sizes of cropped license plates\n",
    "    dimensions = [LP_WIDTH/6,\n",
    "                       LP_WIDTH/2,\n",
    "                       LP_HEIGHT/10,\n",
    "                        2*LP_HEIGHT/3]\n",
    "    cv2.imwrite('contour.jpg',img_binary_lp)\n",
    "#     plt.imshow(img_binary_lp, cmap='gray')\n",
    "#     plt.title('Contour')\n",
    "#     plt.show()\n",
    "\n",
    "    # Get contours within cropped license plate\n",
    "    char_list,img_segment = find_contours(dimensions, img_binary_lp)\n",
    "\n",
    "    return char_list,img_binary_lp,img_segment"
   ]
  },
  {
   "cell_type": "code",
   "execution_count": 113,
   "metadata": {
    "id": "ClSrIjfFmFAE"
   },
   "outputs": [],
   "source": [
    "def result_pytesseract(frame):\n",
    "#     plt.imshow(cv2.cvtColor(frame,cv2.COLOR_BGR2RGB)),plt.show()\n",
    "    # list2: false chars predicted list.\n",
    "    list2 = []\n",
    "    \n",
    "    xconfig = '--psm 6  --oem 3'\n",
    "    result = pytesseract.image_to_string(frame,lang='tur',config = xconfig)\n",
    "    \n",
    "    # Predicted false chars and deleted.\n",
    "    result = list(result)\n",
    "    try:\n",
    "        for a in range(len(result)-1,-1,-1):\n",
    "            for j in range(0,len(false_chars)):\n",
    "                if result[a] == false_chars[str(j)]:\n",
    "                    list2.append(a)\n",
    "        for z in range(0,len(list2)):\n",
    "            del result[list2[z]]\n",
    "        del result[len(result)-1]\n",
    "        del result[len(result)-1]\n",
    "    except:\n",
    "    #Cannot be found first and end character letter. Predicted chars and deleted.\n",
    "    try:\n",
    "        for e in range(0,len(charss)):\n",
    "            if charss[str(e)] == result[0]:\n",
    "                del result[0]\n",
    "            if charss[str(e)] == result[len(result)-1]:\n",
    "                del result[len(result)-1]\n",
    "    except:\n",
    "        pass\n",
    "    result = ''.join(result)\n",
    "    return result"
   ]
  },
  {
   "cell_type": "code",
   "execution_count": 114,
   "metadata": {
    "id": "nqxfHgOerXSk"
   },
   "outputs": [],
   "source": [
    "def result_easyocr(char):\n",
    "    reader = easyocr.Reader(['tr'])\n",
    "    # plate: predicted letter and digits result.\n",
    "    plate=[]\n",
    "    \n",
    "    for i in range(0,len(char)):\n",
    "        \n",
    "        # for easyocr working. first array to img and convert rgb. third convert array.\n",
    "        imge_out = Image.fromarray(char[i].astype('uint8'))\n",
    "        img_as_img = imge_out.convert(\"RGB\")\n",
    "        frame = np.array(img_as_img)\n",
    "        \n",
    "        # if easyocr not found character, pass the code.\n",
    "        try:\n",
    "            result = reader.readtext(frame)[0][1]\n",
    "            #not letter lowcase.\n",
    "            if result == 'u':\n",
    "                result = 'U'\n",
    "        except:\n",
    "            result=''\n",
    "        plate.append(str(result))\n",
    "    \n",
    "    plate_number = ''.join(plate)\n",
    "    return plate_number"
   ]
  },
  {
   "cell_type": "code",
   "execution_count": 5,
   "metadata": {},
   "outputs": [],
   "source": [
    "# .json datas imports.\n",
    "\n",
    "#true_plates = ['35VP404','34SN722','23K5537','06CRL881','34ESM084','09JN999','55AAJ339','59HP559','34EMG837','06CKP307','34ESD505','07AJM829','34BDU695','09ADY288','09AGF808','23ACM279','34AGF767','58ADE876','35BBU743','35BBY448','34ESZ316','16AKK506','34DGU097','34BMU534','07AUJ687','34CSL717','34RR3289','34SA1903','01EH993','07AAK765']\n",
    "with open('json_data/plates_data.json') as f:\n",
    "    true_plates = json.load(f)\n",
    "\n",
    "# false_chars = ['!','”', \"'\", '^', '+', '%', '&', '/', '(', ')', '=', '?', '_', '\"', '#', '$', '{', '[', ']', '}', '\\\\', '|', '<', '>', '/', '*', '-',' ']\n",
    "with open('json_data/false_data.json') as f:\n",
    "    false_chars = json.load(f)\n",
    "\n",
    "# charss = ['Q', 'W', 'E', 'R', 'T', 'Y', 'U', 'I', 'O', 'P', 'Ğ', 'Ü', 'A', 'S', 'D', 'F', 'G', 'H', 'J', 'K', 'L', 'Ş', 'İ', 'Z', 'X', 'C', 'V', 'B', 'N', 'M', 'Ö', 'Ç']\n",
    "with open('json_data/chars_data.json') as f:\n",
    "    charss = json.load(f)"
   ]
  },
  {
   "cell_type": "code",
   "execution_count": 188,
   "metadata": {
    "scrolled": true
   },
   "outputs": [
    {
     "name": "stderr",
     "output_type": "stream",
     "text": [
      "CUDA not available - defaulting to CPU. Note: This module is much faster with a GPU.\n"
     ]
    },
    {
     "data": {
      "image/png": "[encoded data removed]",
      "text/plain": [
       "<Figure size 432x288 with 1 Axes>"
      ]
     },
     "metadata": {
      "needs_background": "light"
     },
     "output_type": "display_data"
    },
    {
     "data": {
      "image/png": "[encoded data removed]",
      "text/plain": [
       "<Figure size 432x288 with 1 Axes>"
      ]
     },
     "metadata": {
      "needs_background": "light"
     },
     "output_type": "display_data"
    },
    {
     "data": {
      "image/png": "[encoded data removed]",
      "text/plain": [
       "<Figure size 432x288 with 1 Axes>"
      ]
     },
     "metadata": {
      "needs_background": "light"
     },
     "output_type": "display_data"
    },
    {
     "data": {
      "image/png": "[encoded data removed]",
      "text/plain": [
       "<Figure size 432x288 with 1 Axes>"
      ]
     },
     "metadata": {
      "needs_background": "light"
     },
     "output_type": "display_data"
    },
    {
     "name": "stdout",
     "output_type": "stream",
     "text": [
      "easyocr: 34DFT080\n",
      "pytesserract: 134DFT080\n",
      "True Plate: 34DFT080\n",
      "Ocr_Succesfully\n"
     ]
    }
   ],
   "source": [
    "true_plates='34DFT080'\n",
    "# cropped : plate found the car. \n",
    "cropped,box,top,left,right,bottom = import_plate('test/predict2.jpg',net)\n",
    "\n",
    "# chars split the plate.\n",
    "char,frame,image_segment = segment_characters(cropped)\n",
    "    \n",
    "# easyocr result\n",
    "result_ocr = result_easyocr(char)\n",
    "    \n",
    "# pytesseract result\n",
    "result_py = result_pytesseract(frame)\n",
    "\n",
    "cv2.putText(box, true_plates, (left,bottom+50), cv2.FONT_HERSHEY_SIMPLEX, 2, (255,255,255),8 )\n",
    "plt.imshow(cropped),plt.title('Car Plate Image.'),plt.axis('off'),plt.show()\n",
    "plt.imshow(cv2.cvtColor(frame,cv2.COLOR_BGR2RGB)),plt.title('Plate thersh Image.'),plt.axis('off'),plt.show()\n",
    "plt.imshow(image_segment),plt.title('Plate Segment Image.'),plt.axis('off'),plt.show()\n",
    "plt.imshow(cv2.cvtColor(box,cv2.COLOR_BGR2RGB)),plt.title('Plate Segment Image.'),plt.axis('off'),plt.show()\n",
    "\n",
    "# cv2.imwrite('end_images/cropped_mustang.jpg',cropped)\n",
    "# cv2.imwrite('end_images/plate_mustang.jpg',frame)\n",
    "# cv2.imwrite('end_images/predicted_char_mustang.jpg',image_segment)\n",
    "# cv2.imwrite('end_images/result_mustang.jpg',box)\n",
    "\n",
    "print('easyocr: ' + result_ocr)\n",
    "print('pytesserract: ' + result_py)\n",
    "print('True Plate: ' + true_plates)\n",
    "    \n",
    "if result_ocr == true_plates:\n",
    "    print('Ocr_Succesfully')\n",
    "if result_py == true_plates:\n",
    "    print('Pytesseract_Succesfully')"
   ]
  },
  {
   "cell_type": "code",
   "execution_count": 191,
   "metadata": {
    "colab": {
     "base_uri": "https://localhost:8080/",
     "height": 1000
    },
    "id": "7fLhNKY-wLPb",
    "outputId": "7736e8fd-1142-410c-9f69-983f94b5cf62"
   },
   "outputs": [
    {
     "name": "stderr",
     "output_type": "stream",
     "text": [
      "CUDA not available - defaulting to CPU. Note: This module is much faster with a GPU.\n"
     ]
    },
    {
     "name": "stdout",
     "output_type": "stream",
     "text": [
      "easyocr: 35YP404\n",
      "pytesserract: 35VP404\n",
      "True Plate: 35VP404\n",
      "Pytesseract_Succesfully\n"
     ]
    },
    {
     "name": "stderr",
     "output_type": "stream",
     "text": [
      "CUDA not available - defaulting to CPU. Note: This module is much faster with a GPU.\n"
     ]
    },
    {
     "name": "stdout",
     "output_type": "stream",
     "text": [
      "easyocr: 34SN722\n",
      "pytesserract: 34SN722\n",
      "True Plate: 34SN722\n",
      "Ocr_Succesfully\n",
      "Pytesseract_Succesfully\n"
     ]
    },
    {
     "name": "stderr",
     "output_type": "stream",
     "text": [
      "CUDA not available - defaulting to CPU. Note: This module is much faster with a GPU.\n"
     ]
    },
    {
     "name": "stdout",
     "output_type": "stream",
     "text": [
      "easyocr: 23K5537\n",
      "pytesserract: 823K55371\n",
      "True Plate: 23K5537\n",
      "Ocr_Succesfully\n"
     ]
    },
    {
     "name": "stderr",
     "output_type": "stream",
     "text": [
      "CUDA not available - defaulting to CPU. Note: This module is much faster with a GPU.\n"
     ]
    },
    {
     "name": "stdout",
     "output_type": "stream",
     "text": [
      "easyocr: 06CRL881\n",
      "pytesserract: 106CRL681\n",
      "True Plate: 06CRL881\n",
      "Ocr_Succesfully\n"
     ]
    },
    {
     "name": "stderr",
     "output_type": "stream",
     "text": [
      "CUDA not available - defaulting to CPU. Note: This module is much faster with a GPU.\n"
     ]
    },
    {
     "name": "stdout",
     "output_type": "stream",
     "text": [
      "easyocr: 34ESH084\n",
      "pytesserract: 34ESM084\n",
      "True Plate: 34ESM084\n",
      "Pytesseract_Succesfully\n"
     ]
    },
    {
     "name": "stderr",
     "output_type": "stream",
     "text": [
      "CUDA not available - defaulting to CPU. Note: This module is much faster with a GPU.\n"
     ]
    },
    {
     "name": "stdout",
     "output_type": "stream",
     "text": [
      "easyocr: 09J999\n",
      "pytesserract: 09JN999\n",
      "True Plate: 09JN999\n",
      "Pytesseract_Succesfully\n"
     ]
    },
    {
     "name": "stderr",
     "output_type": "stream",
     "text": [
      "CUDA not available - defaulting to CPU. Note: This module is much faster with a GPU.\n"
     ]
    },
    {
     "name": "stdout",
     "output_type": "stream",
     "text": [
      "easyocr: 55AAJ339\n",
      "pytesserract: 5AAJ339\n",
      "True Plate: 55AAJ339\n",
      "Ocr_Succesfully\n"
     ]
    },
    {
     "name": "stderr",
     "output_type": "stream",
     "text": [
      "CUDA not available - defaulting to CPU. Note: This module is much faster with a GPU.\n"
     ]
    },
    {
     "name": "stdout",
     "output_type": "stream",
     "text": [
      "easyocr: 59HP559\n",
      "pytesserract: ğ59HP:5591\n",
      "True Plate: 59HP559\n",
      "Ocr_Succesfully\n"
     ]
    },
    {
     "name": "stderr",
     "output_type": "stream",
     "text": [
      "CUDA not available - defaulting to CPU. Note: This module is much faster with a GPU.\n"
     ]
    },
    {
     "name": "stdout",
     "output_type": "stream",
     "text": [
      "easyocr: 34EMG837\n",
      "pytesserract: 34EMG837\n",
      "True Plate: 34EMG837\n",
      "Ocr_Succesfully\n",
      "Pytesseract_Succesfully\n"
     ]
    },
    {
     "name": "stderr",
     "output_type": "stream",
     "text": [
      "CUDA not available - defaulting to CPU. Note: This module is much faster with a GPU.\n"
     ]
    },
    {
     "name": "stdout",
     "output_type": "stream",
     "text": [
      "easyocr: 06CKP307\n",
      "pytesserract: 06CKP307\n",
      "True Plate: 06CKP307\n",
      "Ocr_Succesfully\n",
      "Pytesseract_Succesfully\n"
     ]
    },
    {
     "name": "stderr",
     "output_type": "stream",
     "text": [
      "CUDA not available - defaulting to CPU. Note: This module is much faster with a GPU.\n"
     ]
    },
    {
     "name": "stdout",
     "output_type": "stream",
     "text": [
      "easyocr: 34ES0505\n",
      "pytesserract: 34ESD505\n",
      "True Plate: 34ESD505\n",
      "Pytesseract_Succesfully\n"
     ]
    },
    {
     "name": "stderr",
     "output_type": "stream",
     "text": [
      "CUDA not available - defaulting to CPU. Note: This module is much faster with a GPU.\n"
     ]
    },
    {
     "name": "stdout",
     "output_type": "stream",
     "text": [
      "easyocr: 07AJM829\n",
      "pytesserract: 107AJM829\n",
      "True Plate: 07AJM829\n",
      "Ocr_Succesfully\n"
     ]
    },
    {
     "name": "stderr",
     "output_type": "stream",
     "text": [
      "CUDA not available - defaulting to CPU. Note: This module is much faster with a GPU.\n"
     ]
    },
    {
     "name": "stdout",
     "output_type": "stream",
     "text": [
      "easyocr: 34BDU695\n",
      "pytesserract: 34BDU695\n",
      "True Plate: 34BDU695\n",
      "Ocr_Succesfully\n",
      "Pytesseract_Succesfully\n"
     ]
    },
    {
     "name": "stderr",
     "output_type": "stream",
     "text": [
      "CUDA not available - defaulting to CPU. Note: This module is much faster with a GPU.\n"
     ]
    },
    {
     "name": "stdout",
     "output_type": "stream",
     "text": [
      "easyocr: 09ADY288\n",
      "pytesserract: 09ADY288\n",
      "True Plate: 09ADY288\n",
      "Ocr_Succesfully\n",
      "Pytesseract_Succesfully\n"
     ]
    },
    {
     "name": "stderr",
     "output_type": "stream",
     "text": [
      "CUDA not available - defaulting to CPU. Note: This module is much faster with a GPU.\n"
     ]
    },
    {
     "name": "stdout",
     "output_type": "stream",
     "text": [
      "easyocr: 09AGF808\n",
      "pytesserract: 9AGF808\n",
      "True Plate: 09AGF808\n",
      "Ocr_Succesfully\n"
     ]
    },
    {
     "name": "stderr",
     "output_type": "stream",
     "text": [
      "CUDA not available - defaulting to CPU. Note: This module is much faster with a GPU.\n"
     ]
    },
    {
     "name": "stdout",
     "output_type": "stream",
     "text": [
      "easyocr: 23ACM279\n",
      "pytesserract: 323ACM279\n",
      "True Plate: 23ACM279\n",
      "Ocr_Succesfully\n"
     ]
    },
    {
     "name": "stderr",
     "output_type": "stream",
     "text": [
      "CUDA not available - defaulting to CPU. Note: This module is much faster with a GPU.\n"
     ]
    },
    {
     "name": "stdout",
     "output_type": "stream",
     "text": [
      "easyocr: 34AGF167\n",
      "pytesserract: 34AGF767\n",
      "True Plate: 34AGF767\n",
      "Pytesseract_Succesfully\n"
     ]
    },
    {
     "name": "stderr",
     "output_type": "stream",
     "text": [
      "CUDA not available - defaulting to CPU. Note: This module is much faster with a GPU.\n"
     ]
    },
    {
     "name": "stdout",
     "output_type": "stream",
     "text": [
      "easyocr: 58ADE876\n",
      "pytesserract: 58ADE8761\n",
      "True Plate: 58ADE876\n",
      "Ocr_Succesfully\n"
     ]
    },
    {
     "name": "stderr",
     "output_type": "stream",
     "text": [
      "CUDA not available - defaulting to CPU. Note: This module is much faster with a GPU.\n"
     ]
    },
    {
     "name": "stdout",
     "output_type": "stream",
     "text": [
      "easyocr: 35BBU743\n",
      "pytesserract: 135BBU743\n",
      "True Plate: 35BBU743\n",
      "Ocr_Succesfully\n"
     ]
    },
    {
     "name": "stderr",
     "output_type": "stream",
     "text": [
      "CUDA not available - defaulting to CPU. Note: This module is much faster with a GPU.\n"
     ]
    },
    {
     "name": "stdout",
     "output_type": "stream",
     "text": [
      "easyocr: 35BBY448\n",
      "pytesserract: 35BBY448\n",
      "True Plate: 35BBY448\n",
      "Ocr_Succesfully\n",
      "Pytesseract_Succesfully\n"
     ]
    },
    {
     "name": "stderr",
     "output_type": "stream",
     "text": [
      "CUDA not available - defaulting to CPU. Note: This module is much faster with a GPU.\n"
     ]
    },
    {
     "name": "stdout",
     "output_type": "stream",
     "text": [
      "easyocr: 34ESZ316\n",
      "pytesserract: 34ESZ316\n",
      "True Plate: 34ESZ316\n",
      "Ocr_Succesfully\n",
      "Pytesseract_Succesfully\n"
     ]
    },
    {
     "name": "stderr",
     "output_type": "stream",
     "text": [
      "CUDA not available - defaulting to CPU. Note: This module is much faster with a GPU.\n"
     ]
    },
    {
     "name": "stdout",
     "output_type": "stream",
     "text": [
      "easyocr: 164KK506\n",
      "pytesserract: 16AKK506\n",
      "True Plate: 16AKK506\n",
      "Pytesseract_Succesfully\n"
     ]
    },
    {
     "name": "stderr",
     "output_type": "stream",
     "text": [
      "CUDA not available - defaulting to CPU. Note: This module is much faster with a GPU.\n"
     ]
    },
    {
     "name": "stdout",
     "output_type": "stream",
     "text": [
      "easyocr: 34D6U097\n",
      "pytesserract: 34DGU097\n",
      "True Plate: 34DGU097\n",
      "Pytesseract_Succesfully\n"
     ]
    },
    {
     "name": "stderr",
     "output_type": "stream",
     "text": [
      "CUDA not available - defaulting to CPU. Note: This module is much faster with a GPU.\n"
     ]
    },
    {
     "name": "stdout",
     "output_type": "stream",
     "text": [
      "easyocr: 34BMU534\n",
      "pytesserract: 234BMU534\n",
      "True Plate: 34BMU534\n",
      "Ocr_Succesfully\n"
     ]
    },
    {
     "name": "stderr",
     "output_type": "stream",
     "text": [
      "CUDA not available - defaulting to CPU. Note: This module is much faster with a GPU.\n"
     ]
    },
    {
     "name": "stdout",
     "output_type": "stream",
     "text": [
      "easyocr: 07AUJ687\n",
      "pytesserract: 07AUJ687\n",
      "True Plate: 07AUJ687\n",
      "Ocr_Succesfully\n",
      "Pytesseract_Succesfully\n"
     ]
    },
    {
     "name": "stderr",
     "output_type": "stream",
     "text": [
      "CUDA not available - defaulting to CPU. Note: This module is much faster with a GPU.\n"
     ]
    },
    {
     "name": "stdout",
     "output_type": "stream",
     "text": [
      "easyocr: 34CSL711\n",
      "pytesserract: 34CSL717\n",
      "True Plate: 34CSL717\n",
      "Pytesseract_Succesfully\n"
     ]
    },
    {
     "name": "stderr",
     "output_type": "stream",
     "text": [
      "CUDA not available - defaulting to CPU. Note: This module is much faster with a GPU.\n"
     ]
    },
    {
     "name": "stdout",
     "output_type": "stream",
     "text": [
      "easyocr: 34RR3289\n",
      "pytesserract: 3LRR3289\n",
      "True Plate: 34RR3289\n",
      "Ocr_Succesfully\n"
     ]
    },
    {
     "name": "stderr",
     "output_type": "stream",
     "text": [
      "CUDA not available - defaulting to CPU. Note: This module is much faster with a GPU.\n"
     ]
    },
    {
     "name": "stdout",
     "output_type": "stream",
     "text": [
      "easyocr: 34SA1903\n",
      "pytesserract: 34SA1903\n",
      "True Plate: 34SA1903\n",
      "Ocr_Succesfully\n",
      "Pytesseract_Succesfully\n"
     ]
    },
    {
     "name": "stderr",
     "output_type": "stream",
     "text": [
      "CUDA not available - defaulting to CPU. Note: This module is much faster with a GPU.\n"
     ]
    },
    {
     "name": "stdout",
     "output_type": "stream",
     "text": [
      "easyocr: 01993\n",
      "pytesserract: 01EH993\n",
      "True Plate: 01EH993\n",
      "Pytesseract_Succesfully\n"
     ]
    },
    {
     "name": "stderr",
     "output_type": "stream",
     "text": [
      "CUDA not available - defaulting to CPU. Note: This module is much faster with a GPU.\n"
     ]
    },
    {
     "name": "stdout",
     "output_type": "stream",
     "text": [
      "easyocr: 07AAK765\n",
      "pytesserract: 307AAK765\n",
      "True Plate: 07AAK765\n",
      "Ocr_Succesfully\n"
     ]
    }
   ],
   "source": [
    "list0 = []\n",
    "list1 = []\n",
    "for i in range(1,31):\n",
    "    # cropped : plate found the car. \n",
    "    cropped,_,_,_,_,_ = import_plate('test/test0x0'+str(i)+'.jpg',net)\n",
    "    \n",
    "    # chars split the plate.\n",
    "    char,frame,_ = segment_characters(cropped)\n",
    "    \n",
    "    # easyocr result\n",
    "    result_ocr = result_easyocr(char)\n",
    "    \n",
    "    # pytesseract result\n",
    "    result_py = result_pytesseract(frame)\n",
    "    \n",
    "    print('easyocr: ' + result_ocr)\n",
    "    print('pytesserract: ' + result_py)\n",
    "    print('True Plate: ' + true_plates[str(i-1)])\n",
    "    \n",
    "    if result_ocr == true_plates[str(i-1)]:\n",
    "        print('Ocr_Succesfully')\n",
    "        list0.append(i)\n",
    "    if result_py == true_plates[str(i-1)]:\n",
    "        print('Pytesseract_Succesfully')\n",
    "        list1.append(i)\n"
   ]
  },
  {
   "cell_type": "code",
   "execution_count": 192,
   "metadata": {
    "colab": {
     "base_uri": "https://localhost:8080/"
    },
    "id": "hD9ZVou2xkLd",
    "outputId": "105ded1d-4df5-44d8-b5cc-24ca64766a2e"
   },
   "outputs": [
    {
     "name": "stdout",
     "output_type": "stream",
     "text": [
      "easyocr true predicted test image numbers: [2, 3, 4, 7, 8, 9, 10, 12, 13, 14, 15, 16, 18, 19, 20, 21, 24, 25, 27, 28, 30]\n",
      "Pytesseract True predicted test image numbers: [1, 2, 5, 6, 9, 10, 11, 13, 14, 17, 20, 21, 22, 23, 25, 26, 28, 29]\n",
      "Easyocr Model accuracy: %67.74\n",
      "Pytesseract Model accuracy: %58.06\n"
     ]
    }
   ],
   "source": [
    "print('easyocr true predicted test image numbers: ' + str(list0))\n",
    "print('Pytesseract True predicted test image numbers: ' + str(list1))\n",
    "print('Easyocr Model accuracy: %' + str(round(((len(list0))/31)*100,2)))\n",
    "print('Pytesseract Model accuracy: %' + str(round(((len(list1))/31)*100,2)))"
   ]
  }
 ],
 "metadata": {
  "colab": {
   "collapsed_sections": [],
   "name": "plate_05_yolo_r",
   "provenance": []
  },
  "kernelspec": {
   "display_name": "Python 3",
   "language": "python",
   "name": "python3"
  },
  "language_info": {
   "codemirror_mode": {
    "name": "ipython",
    "version": 3
   },
   "file_extension": ".py",
   "mimetype": "text/x-python",
   "name": "python",
   "nbconvert_exporter": "python",
   "pygments_lexer": "ipython3",
   "version": "3.8.8"
  }
 },
 "nbformat": 4,
 "nbformat_minor": 1
}
